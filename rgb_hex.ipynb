{
 "cells": [
  {
   "cell_type": "code",
   "execution_count": 1,
   "metadata": {},
   "outputs": [],
   "source": [
    "from IPython.display import display\n",
    "from ipywidgets import HTML\n",
    "import numpy as np\n",
    "import time"
   ]
  },
  {
   "cell_type": "code",
   "execution_count": 2,
   "metadata": {},
   "outputs": [],
   "source": [
    "html = HTML()\n",
    "html.value = '''\n",
    "<!DOCTYPE html>\n",
    "<html>\n",
    "  <head>\n",
    "    <meta charset=\"utf-8\">\n",
    "    <meta name=\"viewport\" content=\"width=device-width\">\n",
    "    <title>Lesson 2 Challenge 4</title>\n",
    "    <style>\n",
    "        #heading{\n",
    "          font-family: Arial;\n",
    "          background-color: red;\n",
    "          color: white;\n",
    "        }\n",
    "      \n",
    "        #uppercase {\n",
    "          text-transform: uppercase;\n",
    "        }\n",
    "        /* Add your class rules here */\n",
    "        .sports-history {color:orange}\n",
    "        .computing-history {color:green}\n",
    "    </style>\n",
    "  </head>\n",
    "  <body>\n",
    "\n",
    "    <div id=\"heading\">\n",
    "     <h1> Sporting History</h1>\n",
    "     <p id='uppercase'>\n",
    "       Giants & Heroes\n",
    "     </p>\n",
    "    </div>\n",
    "    <!-- add the correct class here -->\n",
    "    <h3 class = \"sports-history\"> Track & Field</h3>\n",
    "    <p>\n",
    "      Some sporting feats ridicule expectations, fewer violate logic but the rarest of all added a defying of gravity to a hat-trick of achievements. At 3.45pm on 18 October 1968 in Mexico City’s Estadio Olímpico Universitario Bob Beamon accomplished all three.\n",
    "    </p>\n",
    "    <!-- add the correct class here -->\n",
    "       <h3 class = \"sports-history\">Rugby</h3>\n",
    "    <p>\n",
    "      With the game locked at 10 - 10 with thirty minutes on the clock, a Munster scrum just outside the Biarritz line enabled Peter Stringer to do the unexpected and break on the blindside for an unforgettable try. A moment of sheer brilliance by the Munster and Ireland scrumhalf. The try proved to be crucial as Munster won by 23 - 19 to lift the European Cup in Cardiff.\n",
    "    </p>\n",
    "    <!-- add the correct class here -->\n",
    "    <h3 class = \"computing-history\">The first Programmer</h3>\n",
    "    <p>\n",
    "      Ada Lovelace was an English mathematician and writer, chiefly known for her work on Charles Babbage's proposed mechanical general-purpose computer, the Analytical Engine. She was the first to recognise that the machine had applications beyond pure calculation, and published the first algorithm intended to be carried out by such a machine. As a result, she is sometimes regarded as the first to recognise the full potential of a \"computing machine\" and the first computer programmer.\n",
    "    </p>\n",
    "    <!-- add the correct class here -->\n",
    "    <h3 class = \"computing-history\">The first Compiler</h3>\n",
    "    <p>\n",
    "      Grace Hopper was an American computer scientist and United States Navy rear admiral. One of the first programmers of the Harvard Mark I computer, she was a pioneer of computer programming who invented one of the first compiler related tools.\n",
    "    </p>\n",
    "    \n",
    "  </body>\n",
    "</html>\n",
    "\n",
    "\n",
    "\n",
    "'''"
   ]
  },
  {
   "cell_type": "code",
   "execution_count": 3,
   "metadata": {},
   "outputs": [
    {
     "data": {
      "application/vnd.jupyter.widget-view+json": {
       "model_id": "200f453b91b34b0bb254cae7ea099563",
       "version_major": 2,
       "version_minor": 0
      },
      "text/plain": [
       "HTML(value='\\n<!DOCTYPE html>\\n<html>\\n  <head>\\n    <meta charset=\"utf-8\">\\n    <meta name=\"viewport\" content…"
      ]
     },
     "metadata": {},
     "output_type": "display_data"
    }
   ],
   "source": [
    "display(html)"
   ]
  },
  {
   "cell_type": "code",
   "execution_count": 4,
   "metadata": {},
   "outputs": [],
   "source": [
    "import math\n",
    "def isLightOrDark(rgbColor=[0,128,255]):\n",
    "    [r,g,b]=rgbColor\n",
    "    hsp = math.sqrt(0.299 * (r * r) + 0.587 * (g * g) + 0.114 * (b * b))\n",
    "    if (hsp>127.5):\n",
    "        return 'light'\n",
    "    else:\n",
    "        return 'dark'"
   ]
  },
  {
   "cell_type": "code",
   "execution_count": null,
   "metadata": {},
   "outputs": [],
   "source": [
    "rgb = np.ones(3)\n",
    "while any(rgb % 255):\n",
    "    for i in range(len(rgb)):\n",
    "        rgb[i] = np.random.randint(256)\n",
    "        \n",
    "    color = 'Color is ' + isLightOrDark(rgb) + ': ' + str(rgb[0]) + ', ' + str(rgb[1]) + ', ' + str(rgb[2])\n",
    "    color1 = '{color:rgb(' + str(rgb[0]) + ',' + str(rgb[1]) + ',' + str(rgb[2]) + ')}'\n",
    "    color2 = '{color:rgb(0,0,0)'    #black\n",
    "    if isLightOrDark(rgb) == 'dark':\n",
    "        color2 = '{color:rgb(255,255,255)'    #white\n",
    "    color2 += ';background-color:rgb(' + str(rgb[0]) + ',' + str(rgb[1]) + ',' + str(rgb[2]) + ')}'\n",
    "\n",
    "    html.value = f'''\n",
    "    <!DOCTYPE html>\n",
    "    <html>\n",
    "      <head>\n",
    "        <meta charset=\"utf-8\">\n",
    "        <meta name=\"viewport\" content=\"width=device-width\">\n",
    "        <title>Lesson 2 Challenge 4</title>\n",
    "        <style>\n",
    "            .computing-history {color1}\n",
    "            p {color2}\n",
    "        </style>\n",
    "      </head>\n",
    "      <body>\n",
    "\n",
    "        <h3 class = \"computing-history\">The first Compiler</h3>\n",
    "        <p>\n",
    "          {color}\n",
    "        </p>\n",
    "\n",
    "      </body>\n",
    "    </html>\n",
    "    '''\n",
    "    \n",
    "    time.sleep(2)"
   ]
  },
  {
   "cell_type": "code",
   "execution_count": null,
   "metadata": {},
   "outputs": [],
   "source": []
  }
 ],
 "metadata": {
  "kernelspec": {
   "display_name": "Python 3",
   "language": "python",
   "name": "python3"
  },
  "language_info": {
   "codemirror_mode": {
    "name": "ipython",
    "version": 3
   },
   "file_extension": ".py",
   "mimetype": "text/x-python",
   "name": "python",
   "nbconvert_exporter": "python",
   "pygments_lexer": "ipython3",
   "version": "3.7.7"
  }
 },
 "nbformat": 4,
 "nbformat_minor": 4
}
